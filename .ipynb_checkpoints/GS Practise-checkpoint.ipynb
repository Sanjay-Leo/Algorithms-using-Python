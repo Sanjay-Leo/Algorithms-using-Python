{
 "cells": [
  {
   "cell_type": "code",
   "execution_count": null,
   "metadata": {
    "collapsed": true
   },
   "outputs": [],
   "source": [
    "Given an array of integers, return indices of the two numbers such that they add up to a specific target.\n",
    "\n",
    "You may assume that each input would have exactly one solution, and you may not use the same element twice.\n",
    "\n",
    "Example:\n",
    "Given nums = [2, 7, 11, 15], target = 9,\n",
    "\n",
    "Because nums[0] + nums[1] = 2 + 7 = 9,\n",
    "\n",
    "return [0, 1]."
   ]
  },
  {
   "cell_type": "code",
   "execution_count": null,
   "metadata": {},
   "outputs": [],
   "source": [
    "class Solution:\n",
    "    def twoSum(self, nums, target):\n",
    "        \"\"\"\n",
    "        :type nums: List[int]\n",
    "        :type target: int\n",
    "        :rtype: List[int]\n",
    "        \"\"\"\n",
    "        if len(nums)<=1:\n",
    "            return False\n",
    "        buffer = {}\n",
    "        for i in range(len(nums)):\n",
    "            if nums[i] in buffer:\n",
    "                return [buffer[nums[i]],i]\n",
    "            else:\n",
    "                buffer[target-nums[i]]=i\n",
    "                \n",
    "        \n",
    "nums = [2, 7, 11, 15]\n",
    "target = 9\n",
    "twoSum(nums,target)           \n",
    "        \n",
    "        "
   ]
  },
  {
   "cell_type": "code",
   "execution_count": null,
   "metadata": {},
   "outputs": [],
   "source": []
  },
  {
   "cell_type": "code",
   "execution_count": null,
   "metadata": {},
   "outputs": [],
   "source": []
  },
  {
   "cell_type": "code",
   "execution_count": null,
   "metadata": {},
   "outputs": [],
   "source": []
  },
  {
   "cell_type": "code",
   "execution_count": null,
   "metadata": {
    "collapsed": true
   },
   "outputs": [],
   "source": [
    "#Finding Kth largest element in an unsorted array\n",
    "\n",
    "import random\n",
    "class Solution(object):\n",
    "     \n",
    "    def findKthLargest(self, nums, k):\n",
    "        \"\"\"\n",
    "        :type nums: List[int]\n",
    "        :type k: int\n",
    "        :rtype: int\n",
    "        \"\"\"\n",
    "        ###### iterative solution\n",
    "        k = len(nums)-k\n",
    "        l = 0\n",
    "        r = len(nums)-1\n",
    "        \n",
    "        while 1:\n",
    "            pos = self.partition(nums,l,r)\n",
    "            if pos == k:\n",
    "                return nums[pos]\n",
    "            elif pos < k:\n",
    "                l = pos+1\n",
    "            else:\n",
    "                r = pos-1\n",
    "    \n",
    "    def partition(self, array, l, r):\n",
    "        # randomly pick an index to be the pivot and swap it to the right\n",
    "        p = random.randint(l,r)\n",
    "        array[p],array[r] = array[r],array[p]\n",
    "        privot = array[r]\n",
    "        boundary = l\n",
    "        for i in range(l,r):\n",
    "            if array[i] < privot:\n",
    "                array[boundary],array[i] = array[i],array[boundary]\n",
    "                boundary+=1\n",
    "        array[boundary], array[r] = array[r],array[boundary]\n",
    "        return boundary"
   ]
  },
  {
   "cell_type": "code",
   "execution_count": null,
   "metadata": {},
   "outputs": [],
   "source": [
    "sol = Solution()\n",
    "sol.findKthLargest([1,2,3],2)"
   ]
  },
  {
   "cell_type": "code",
   "execution_count": 1,
   "metadata": {
    "collapsed": true
   },
   "outputs": [],
   "source": [
    "def fn(s):\n",
    "  order = []\n",
    "  counts = {}\n",
    "  for x in s:\n",
    "    if x in counts:\n",
    "      counts[x] += 1\n",
    "    else:\n",
    "      counts[x] = 1 \n",
    "      order.append(x)\n",
    "  for x in order:\n",
    "    if counts[x] == 1:\n",
    "      return x\n",
    "  return None"
   ]
  },
  {
   "cell_type": "code",
   "execution_count": 2,
   "metadata": {},
   "outputs": [
    {
     "data": {
      "text/plain": [
       "'j'"
      ]
     },
     "execution_count": 2,
     "metadata": {},
     "output_type": "execute_result"
    }
   ],
   "source": [
    "fn(\"shbfsjdhfbfsdbs\")"
   ]
  },
  {
   "cell_type": "code",
   "execution_count": null,
   "metadata": {
    "collapsed": true
   },
   "outputs": [],
   "source": []
  }
 ],
 "metadata": {
  "kernelspec": {
   "display_name": "Python 3",
   "language": "python",
   "name": "python3"
  },
  "language_info": {
   "codemirror_mode": {
    "name": "ipython",
    "version": 3
   },
   "file_extension": ".py",
   "mimetype": "text/x-python",
   "name": "python",
   "nbconvert_exporter": "python",
   "pygments_lexer": "ipython3",
   "version": "3.6.1"
  }
 },
 "nbformat": 4,
 "nbformat_minor": 2
}
